{
	"cells": [
		{
			"cell_type": "markdown",
			"metadata": {
				"id": "d7aInaa0Vjq9"
			},
			"source": [
				"[![Open In Colab](https://colab.research.google.com/assets/colab-badge.svg)](https://colab.research.google.com/github/shhommychon/detect-and-distort-faces/blob/main/run.ipynb)"
			]
		}
	],
	"metadata": {
		"colab": {
			"authorship_tag": "ABX9TyPNu1xAhWeuxIrPwTfPCAvY",
			"collapsed_sections": [],
			"name": "Python template.ipynb",
			"provenance": []
		},
		"kernelspec": {
			"display_name": "Python 3",
			"name": "python3"
		},
		"language_info": {
			"name": "python"
		}
	},
	"nbformat": 4,
	"nbformat_minor": 0
}