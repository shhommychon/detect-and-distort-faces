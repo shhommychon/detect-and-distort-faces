{
  "cells": [
    {
      "cell_type": "markdown",
      "metadata": {
        "id": "d7aInaa0Vjq9"
      },
      "source": [
        "[![Open In Colab](https://colab.research.google.com/assets/colab-badge.svg)](https://colab.research.google.com/github/shhommychon/detect-and-distort-faces/blob/main/run.ipynb)"
      ]
    },
    {
      "cell_type": "markdown",
      "source": [
        "# 환경설정"
      ],
      "metadata": {
        "id": "lYQYE95tyoIy"
      }
    },
    {
      "cell_type": "markdown",
      "source": [
        "## [ngrok](https://ngrok.com/) 세팅"
      ],
      "metadata": {
        "id": "8pY9SbQWxt_1"
      }
    },
    {
      "cell_type": "code",
      "source": [
        "# NGROK_TOKEN = \"hello_hommy\"\n",
        "# PASSWORD = \"hello_hommy\"\n",
        "\n",
        "# !pip install colab_ssh --upgrade\n",
        "\n",
        "# from colab_ssh import launch_ssh\n",
        "# launch_ssh(NGROK_TOKEN, PASSWORD)"
      ],
      "metadata": {
        "id": "VKnllJmcxu2O",
        "outputId": "9cdef5cc-f482-4f6b-af72-10a9a6ced952",
        "colab": {
          "base_uri": "https://localhost:8080/"
        }
      },
      "execution_count": 1,
      "outputs": [
        {
          "output_type": "stream",
          "name": "stdout",
          "text": [
            "Collecting colab_ssh\n",
            "  Downloading colab_ssh-0.3.27-py3-none-any.whl (26 kB)\n",
            "Installing collected packages: colab-ssh\n",
            "Successfully installed colab-ssh-0.3.27\n",
            "Warning: Due to some issues with ngrok on Google Colab, reported in the issue https://github.com/WassimBenzarti/colab-ssh/issues/45, \n",
            "we highly recommend that update your code by following this documentation https://github.com/WassimBenzarti/colab-ssh#getting-started\n",
            "Successfully running 0.tcp.ngrok.io:15786\n",
            "[Optional] You can also connect with VSCode SSH Remote extension using this configuration:\n",
            "\n",
            "  Host google_colab_ssh\n",
            "    HostName -1.tcp.ngrok.io\n",
            "    User root\n",
            "    Port 0\n",
            "    \n"
          ]
        }
      ]
    },
    {
      "cell_type": "markdown",
      "source": [
        "## colab에 필요 파일 배치"
      ],
      "metadata": {
        "id": "DNLZ6GNUyq6w"
      }
    },
    {
      "cell_type": "code",
      "source": [
        "!git clone https://github.com/shhommychon/detect-and-distort-faces.git\n",
        "\n",
        "import sys\n",
        "sys.path.append(\"detect-and-distort-faces\")"
      ],
      "metadata": {
        "id": "U_FDUk6Rxx1E",
        "outputId": "c31a733d-b965-481d-8433-39bfbf94772f",
        "colab": {
          "base_uri": "https://localhost:8080/"
        }
      },
      "execution_count": 2,
      "outputs": [
        {
          "output_type": "stream",
          "name": "stdout",
          "text": [
            "Cloning into 'detect-and-distort-faces'...\n",
            "remote: Enumerating objects: 10, done.\u001b[K\n",
            "remote: Counting objects: 100% (10/10), done.\u001b[K\n",
            "remote: Compressing objects: 100% (6/6), done.\u001b[K\n",
            "remote: Total 10 (delta 0), reused 10 (delta 0), pack-reused 0\u001b[K\n",
            "Unpacking objects: 100% (10/10), done.\n"
          ]
        }
      ]
    },
    {
      "cell_type": "code",
      "source": [
        "!pip -qq install -r detect-and-distort-faces/requirements.txt"
      ],
      "metadata": {
        "id": "lla4XoDlzydz",
        "outputId": "379e8c0d-385f-426c-8c7d-45d030a0ad8e",
        "colab": {
          "base_uri": "https://localhost:8080/"
        }
      },
      "execution_count": 3,
      "outputs": [
        {
          "output_type": "stream",
          "name": "stdout",
          "text": [
            "\u001b[?25l\r\u001b[K     |█████                           | 10 kB 13.0 MB/s eta 0:00:01\r\u001b[K     |██████████                      | 20 kB 10.6 MB/s eta 0:00:01\r\u001b[K     |███████████████▏                | 30 kB 8.7 MB/s eta 0:00:01\r\u001b[K     |████████████████████▏           | 40 kB 8.0 MB/s eta 0:00:01\r\u001b[K     |█████████████████████████▏      | 51 kB 4.2 MB/s eta 0:00:01\r\u001b[K     |██████████████████████████████▎ | 61 kB 5.0 MB/s eta 0:00:01\r\u001b[K     |████████████████████████████████| 65 kB 2.2 MB/s \n",
            "\u001b[K     |████████████████████████████████| 87 kB 5.6 MB/s \n",
            "\u001b[K     |████████████████████████████████| 60.5 MB 1.3 MB/s \n",
            "\u001b[K     |████████████████████████████████| 2.3 MB 48.4 MB/s \n",
            "\u001b[K     |████████████████████████████████| 462 kB 37.0 MB/s \n",
            "\u001b[?25h  Building wheel for fire (setup.py) ... \u001b[?25l\u001b[?25hdone\n",
            "\u001b[31mERROR: pip's dependency resolver does not currently take into account all the packages that are installed. This behaviour is the source of the following dependency conflicts.\n",
            "albumentations 0.1.12 requires imgaug<0.2.7,>=0.2.5, but you have imgaug 0.2.9 which is incompatible.\u001b[0m\n"
          ]
        }
      ]
    },
    {
      "cell_type": "markdown",
      "source": [
        "# 얼굴 탐지"
      ],
      "metadata": {
        "id": "GUC2_mc_0U9n"
      }
    },
    {
      "cell_type": "code",
      "source": [
        "SCREEN_WIDTH = 640; SCREEN_HEIGHT = 480\n",
        "\n",
        "face_detect = False\n",
        "face_detect_model = \"none\"\n",
        "face_distort_type = \"none\""
      ],
      "metadata": {
        "id": "2F4Q5Z8X-N6j"
      },
      "execution_count": 4,
      "outputs": []
    },
    {
      "cell_type": "code",
      "source": [
        "from helper import google_colab as colab\n",
        "\n",
        "# start streaming video from webcam\n",
        "colab.video_stream(width=SCREEN_WIDTH, height=SCREEN_HEIGHT)\n",
        "\n",
        "# label for video\n",
        "label_html = \"Capturing...\"\n",
        "\n",
        "# initialze bounding box to empty\n",
        "bbox = ''\n",
        "\n",
        "while True:\n",
        "    js_reply = colab.video_frame(label_html, bbox)\n",
        "    if not js_reply:\n",
        "        break\n",
        "\n",
        "    # convert JS response to OpenCV Image\n",
        "    img = colab.js_to_image(js_reply[\"img\"])\n"
      ],
      "metadata": {
        "id": "f9dgMBrm0ah9",
        "outputId": "54eb92db-47ca-4d21-e837-70019462ba1e",
        "colab": {
          "base_uri": "https://localhost:8080/",
          "height": 17
        }
      },
      "execution_count": 5,
      "outputs": [
        {
          "output_type": "display_data",
          "data": {
            "text/plain": [
              "<IPython.core.display.Javascript object>"
            ],
            "application/javascript": [
              "\n",
              "        var video;\n",
              "        var div = null;\n",
              "        var stream;\n",
              "        var captureCanvas;\n",
              "        var imgElement;\n",
              "        var labelElement;\n",
              "\n",
              "        var pendingResolve = null;\n",
              "        var shutdown = false;\n",
              "\n",
              "        function removeDom() {\n",
              "            stream.getVideoTracks()[0].stop();\n",
              "            video.remove();\n",
              "            div.remove();\n",
              "            video = null;\n",
              "            div = null;\n",
              "            stream = null;\n",
              "            imgElement = null;\n",
              "            captureCanvas = null;\n",
              "            labelElement = null;\n",
              "        }\n",
              "\n",
              "        function onAnimationFrame() {\n",
              "            if (!shutdown) {\n",
              "                window.requestAnimationFrame(onAnimationFrame);\n",
              "            }\n",
              "            if (pendingResolve) {\n",
              "                var result = \"\";\n",
              "                if (!shutdown) {\n",
              "                    captureCanvas.getContext('2d').drawImage(video, 0, 0, 640, 480);\n",
              "                    result = captureCanvas.toDataURL('image/jpeg', 0.8)\n",
              "                }\n",
              "                var lp = pendingResolve;\n",
              "                pendingResolve = null;\n",
              "                lp(result);\n",
              "            }\n",
              "        }\n",
              "\n",
              "        async function createDom() {\n",
              "            if (div !== null) {\n",
              "                return stream;\n",
              "            }\n",
              "\n",
              "            div = document.createElement('div');\n",
              "            div.style.border = '2px solid black';\n",
              "            div.style.padding = '3px';\n",
              "            div.style.width = '100%';\n",
              "            div.style.maxWidth = '600px';\n",
              "            document.body.appendChild(div);\n",
              "            \n",
              "            const modelOut = document.createElement('div');\n",
              "            modelOut.innerHTML = \"<span>Status:</span>\";\n",
              "            labelElement = document.createElement('span');\n",
              "            labelElement.innerText = 'No data';\n",
              "            labelElement.style.fontWeight = 'bold';\n",
              "            modelOut.appendChild(labelElement);\n",
              "            div.appendChild(modelOut);\n",
              "                \n",
              "            video = document.createElement('video');\n",
              "            video.style.display = 'block';\n",
              "            video.width = div.clientWidth - 6;\n",
              "            video.setAttribute('playsinline', '');\n",
              "            video.onclick = () => { shutdown = true; };\n",
              "            stream = await navigator.mediaDevices.getUserMedia(\n",
              "                {video: { facingMode: \"environment\"}});\n",
              "            div.appendChild(video);\n",
              "\n",
              "            imgElement = document.createElement('img');\n",
              "            imgElement.style.position = 'absolute';\n",
              "            imgElement.style.zIndex = 1;\n",
              "            imgElement.onclick = () => { shutdown = true; };\n",
              "            div.appendChild(imgElement);\n",
              "            \n",
              "            const instruction = document.createElement('div');\n",
              "            instruction.innerHTML = \n",
              "                '<span style=\"color: red; font-weight: bold;\">' +\n",
              "                'When finished, click here or on the video to stop this demo</span>';\n",
              "            div.appendChild(instruction);\n",
              "            instruction.onclick = () => { shutdown = true; };\n",
              "            \n",
              "            video.srcObject = stream;\n",
              "            await video.play();\n",
              "\n",
              "            captureCanvas = document.createElement('canvas');\n",
              "            captureCanvas.width = 640; //video.videoWidth;\n",
              "            captureCanvas.height = 480; //video.videoHeight;\n",
              "            window.requestAnimationFrame(onAnimationFrame);\n",
              "            \n",
              "            return stream;\n",
              "        }\n",
              "        async function stream_frame(label, imgData) {\n",
              "            if (shutdown) {\n",
              "                removeDom();\n",
              "                shutdown = false;\n",
              "                return '';\n",
              "            }\n",
              "\n",
              "            var preCreate = Date.now();\n",
              "            stream = await createDom();\n",
              "            \n",
              "            var preShow = Date.now();\n",
              "            if (label != \"\") {\n",
              "                labelElement.innerHTML = label;\n",
              "            }\n",
              "                \n",
              "            if (imgData != \"\") {\n",
              "                var videoRect = video.getClientRects()[0];\n",
              "                imgElement.style.top = videoRect.top + \"px\";\n",
              "                imgElement.style.left = videoRect.left + \"px\";\n",
              "                imgElement.style.width = videoRect.width + \"px\";\n",
              "                imgElement.style.height = videoRect.height + \"px\";\n",
              "                imgElement.src = imgData;\n",
              "            }\n",
              "            \n",
              "            var preCapture = Date.now();\n",
              "            var result = await new Promise(function(resolve, reject) {\n",
              "                pendingResolve = resolve;\n",
              "            });\n",
              "            shutdown = false;\n",
              "            \n",
              "            return {'create': preShow - preCreate, \n",
              "                    'show': preCapture - preShow, \n",
              "                    'capture': Date.now() - preCapture,\n",
              "                    'img': result};\n",
              "        }"
            ]
          },
          "metadata": {}
        }
      ]
    }
  ],
  "metadata": {
    "colab": {
      "collapsed_sections": [],
      "name": "run.ipynb",
      "provenance": []
    },
    "kernelspec": {
      "display_name": "Python 3",
      "name": "python3"
    },
    "language_info": {
      "name": "python"
    }
  },
  "nbformat": 4,
  "nbformat_minor": 0
}