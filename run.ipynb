{
  "cells": [
    {
      "cell_type": "markdown",
      "metadata": {
        "id": "d7aInaa0Vjq9"
      },
      "source": [
        "[![Open In Colab](https://colab.research.google.com/assets/colab-badge.svg)](https://colab.research.google.com/github/shhommychon/detect-and-distort-faces/blob/main/run.ipynb)"
      ]
    },
    {
      "cell_type": "markdown",
      "source": [
        "# 환경설정"
      ],
      "metadata": {
        "id": "lYQYE95tyoIy"
      }
    },
    {
      "cell_type": "markdown",
      "source": [
        "## [ngrok](https://ngrok.com/) 세팅"
      ],
      "metadata": {
        "id": "8pY9SbQWxt_1"
      }
    },
    {
      "cell_type": "code",
      "source": [
        "# NGROK_TOKEN = \"hello_hommy\"\n",
        "# PASSWORD = \"hello_hommy\"\n",
        "\n",
        "# !pip install colab_ssh --upgrade\n",
        "\n",
        "# from colab_ssh import launch_ssh\n",
        "# launch_ssh(NGROK_TOKEN, PASSWORD)"
      ],
      "metadata": {
        "id": "VKnllJmcxu2O",
        "outputId": "9cdef5cc-f482-4f6b-af72-10a9a6ced952",
        "colab": {
          "base_uri": "https://localhost:8080/"
        }
      },
      "execution_count": 1,
      "outputs": [
        {
          "output_type": "stream",
          "name": "stdout",
          "text": [
            "Collecting colab_ssh\n",
            "  Downloading colab_ssh-0.3.27-py3-none-any.whl (26 kB)\n",
            "Installing collected packages: colab-ssh\n",
            "Successfully installed colab-ssh-0.3.27\n",
            "Warning: Due to some issues with ngrok on Google Colab, reported in the issue https://github.com/WassimBenzarti/colab-ssh/issues/45, \n",
            "we highly recommend that update your code by following this documentation https://github.com/WassimBenzarti/colab-ssh#getting-started\n",
            "Successfully running -1.tcp.ngrok.io:0\n",
            "[Optional] You can also connect with VSCode SSH Remote extension using this configuration:\n",
            "\n",
            "  Host google_colab_ssh\n",
            "    HostName -1.tcp.ngrok.io\n",
            "    User root\n",
            "    Port 0\n",
            "    \n"
          ]
        }
      ]
    },
    {
      "cell_type": "markdown",
      "source": [
        "## colab에 필요 파일 배치"
      ],
      "metadata": {
        "id": "DNLZ6GNUyq6w"
      }
    },
    {
      "cell_type": "code",
      "source": [
        "!git clone https://github.com/shhommychon/detect-and-distort-faces.git\n",
        "\n",
        "import sys\n",
        "sys.path.append(\"detect-and-distort-faces\")"
      ],
      "metadata": {
        "id": "U_FDUk6Rxx1E",
        "outputId": "c31a733d-b965-481d-8433-39bfbf94772f",
        "colab": {
          "base_uri": "https://localhost:8080/"
        }
      },
      "execution_count": 2,
      "outputs": [
        {
          "output_type": "stream",
          "name": "stdout",
          "text": [
            "Cloning into 'detect-and-distort-faces'...\n",
            "remote: Enumerating objects: 15, done.\u001b[K\n",
            "remote: Counting objects: 100% (15/15), done.\u001b[K\n",
            "remote: Compressing objects: 100% (9/9), done.\u001b[K\n",
            "remote: Total 15 (delta 1), reused 15 (delta 1), pack-reused 0\u001b[K\n",
            "Unpacking objects: 100% (15/15), done.\n"
          ]
        }
      ]
    },
    {
      "cell_type": "code",
      "source": [
        "!pip -qq install -r detect-and-distort-faces/requirements.txt\n",
        "\n",
        "import os\n",
        "os.mkdir(\"/root/.deepface\")\n",
        "os.mkdir(\"/root/.deepface/weights\")"
      ],
      "metadata": {
        "id": "lla4XoDlzydz",
        "outputId": "379e8c0d-385f-426c-8c7d-45d030a0ad8e",
        "colab": {
          "base_uri": "https://localhost:8080/"
        }
      },
      "execution_count": 3,
      "outputs": [
        {
          "output_type": "stream",
          "name": "stdout",
          "text": [
            "\u001b[K     |████████████████████████████████| 65 kB 2.2 MB/s \n",
            "\u001b[K     |████████████████████████████████| 32.8 MB 241 kB/s \n",
            "\u001b[K     |████████████████████████████████| 60.5 MB 1.2 MB/s \n",
            "\u001b[K     |████████████████████████████████| 2.3 MB 34.8 MB/s \n",
            "\u001b[K     |████████████████████████████████| 87 kB 6.7 MB/s \n",
            "\u001b[K     |████████████████████████████████| 462 kB 46.9 MB/s \n",
            "\u001b[?25h  Building wheel for fire (setup.py) ... \u001b[?25l\u001b[?25hdone\n",
            "\u001b[31mERROR: pip's dependency resolver does not currently take into account all the packages that are installed. This behaviour is the source of the following dependency conflicts.\n",
            "albumentations 0.1.12 requires imgaug<0.2.7,>=0.2.5, but you have imgaug 0.2.9 which is incompatible.\u001b[0m\n"
          ]
        }
      ]
    },
    {
      "cell_type": "markdown",
      "source": [
        "# 얼굴 탐지"
      ],
      "metadata": {
        "id": "GUC2_mc_0U9n"
      }
    },
    {
      "cell_type": "code",
      "source": [
        "SCREEN_WIDTH = 640; SCREEN_HEIGHT = 480\n",
        "\n",
        "face_detect = False\n",
        "face_detect_model = \"none\"\n",
        "face_distort_type = \"none\""
      ],
      "metadata": {
        "id": "2F4Q5Z8X-N6j"
      },
      "execution_count": 4,
      "outputs": []
    },
    {
      "cell_type": "code",
      "source": [
        "from detect_faces.deepface import deepface_detector\n",
        "from detect_faces.opencv import haar_cascade_classifier\n",
        "from helper import google_colab as colab\n",
        "\n",
        "import cv2\n",
        "import numpy as np\n",
        "\n",
        "# start streaming video from webcam\n",
        "colab.video_stream(width=SCREEN_WIDTH, height=SCREEN_HEIGHT)\n",
        "\n",
        "# label for video\n",
        "label_html = \"Capturing...\"\n",
        "\n",
        "# initialze bounding box to empty\n",
        "bbox = ''\n",
        "\n",
        "while True:\n",
        "    js_reply = colab.video_frame(label_html, bbox)\n",
        "    if not js_reply:\n",
        "        break\n",
        "\n",
        "    # convert JS response to OpenCV Image\n",
        "    img = colab.js_to_image(js_reply[\"img\"])\n",
        "\n",
        "    if face_detect:\n",
        "        # 아래 옵션 중 얼굴 탐지 모델을 선택하세요.\n",
        "        if face_detect_model == \"cv2_haar\":\n",
        "            faces = haar_cascade_classifier(img)\n",
        "        elif face_detect_model == \"df_cv\":\n",
        "            faces = deepface_detector(img, detector_backend=\"opencv\")\n",
        "        elif face_detect_model == \"df_ssd\":\n",
        "            faces = deepface_detector(img, detector_backend=\"ssd\")\n",
        "        elif face_detect_model == \"df_dlib\":\n",
        "            faces = deepface_detector(img, detector_backend=\"dlib\")\n",
        "        elif face_detect_model == \"df_mc\":\n",
        "            faces = deepface_detector(img, detector_backend=\"mtcnn\")\n",
        "        elif face_detect_model == \"df_ret\":\n",
        "            faces = deepface_detector(img, detector_backend=\"retinaface\")\n",
        "        elif face_detect_model == \"df_mp\":\n",
        "            faces = deepface_detector(img, detector_backend=\"mediapipe\")\n",
        "        else:\n",
        "            faces = []\n",
        "\n",
        "        bbox_array = np.zeros([SCREEN_HEIGHT, SCREEN_WIDTH, 4], dtype=np.uint8)\n",
        "        \n",
        "        for x, y, w, h in faces:\n",
        "            bbox_array = cv2.rectangle(bbox_array, (x,y), (x+w,y+h), (255,0,0), 2) # draw rectangle to main image\n",
        "            bbox_array[:,:,3] = (bbox_array.max(axis=2) > 0).astype(int) * 255\n",
        "\n",
        "            bbox_bytes = colab.bbox_to_bytes(bbox_array)\n",
        "            bbox = bbox_bytes\n"
      ],
      "metadata": {
        "id": "f9dgMBrm0ah9"
	  },
      "execution_count": null,
      "outputs": []
    }
  ],
  "metadata": {
    "colab": {
      "collapsed_sections": [],
      "name": "run.ipynb",
      "provenance": []
    },
    "kernelspec": {
      "display_name": "Python 3",
      "name": "python3"
    },
    "language_info": {
      "name": "python"
    },
    "accelerator": "GPU"
  },
  "nbformat": 4,
  "nbformat_minor": 0
}