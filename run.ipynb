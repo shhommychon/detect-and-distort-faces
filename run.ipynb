{
  "cells": [
    {
      "cell_type": "markdown",
      "metadata": {
        "id": "d7aInaa0Vjq9"
      },
      "source": [
        "[![Open In Colab](https://colab.research.google.com/assets/colab-badge.svg)](https://colab.research.google.com/github/shhommychon/detect-and-distort-faces/blob/main/run.ipynb)"
      ]
    },
    {
      "cell_type": "markdown",
      "metadata": {
        "id": "lYQYE95tyoIy"
      },
      "source": [
        "# 환경설정"
      ]
    },
    {
      "cell_type": "markdown",
      "metadata": {
        "id": "8pY9SbQWxt_1"
      },
      "source": [
        "## [ngrok](https://ngrok.com/) 세팅"
      ]
    },
    {
      "cell_type": "code",
      "execution_count": 1,
      "metadata": {
        "colab": {
          "base_uri": "https://localhost:8080/"
        },
        "id": "VKnllJmcxu2O",
        "outputId": "9cdef5cc-f482-4f6b-af72-10a9a6ced952"
      },
      "outputs": [
        {
          "name": "stdout",
          "output_type": "stream",
          "text": [
            "Collecting colab_ssh\n",
            "  Downloading colab_ssh-0.3.27-py3-none-any.whl (26 kB)\n",
            "Installing collected packages: colab-ssh\n",
            "Successfully installed colab-ssh-0.3.27\n",
            "Warning: Due to some issues with ngrok on Google Colab, reported in the issue https://github.com/WassimBenzarti/colab-ssh/issues/45, \n",
            "we highly recommend that update your code by following this documentation https://github.com/WassimBenzarti/colab-ssh#getting-started\n",
            "Successfully running -1.tcp.ngrok.io:0\n",
            "[Optional] You can also connect with VSCode SSH Remote extension using this configuration:\n",
            "\n",
            "  Host google_colab_ssh\n",
            "    HostName -1.tcp.ngrok.io\n",
            "    User root\n",
            "    Port 0\n",
            "    \n"
          ]
        }
      ],
      "source": [
        "# NGROK_TOKEN = \"hello_hommy\"\n",
        "# PASSWORD = \"hello_hommy\"\n",
        "\n",
        "# !pip install colab_ssh --upgrade\n",
        "\n",
        "# from colab_ssh import launch_ssh\n",
        "# launch_ssh(NGROK_TOKEN, PASSWORD)"
      ]
    },
    {
      "cell_type": "markdown",
      "metadata": {
        "id": "DNLZ6GNUyq6w"
      },
      "source": [
        "## colab에 필요 파일 배치"
      ]
    },
    {
      "cell_type": "code",
      "execution_count": 2,
      "metadata": {
        "colab": {
          "base_uri": "https://localhost:8080/"
        },
        "id": "U_FDUk6Rxx1E",
        "outputId": "c31a733d-b965-481d-8433-39bfbf94772f"
      },
      "outputs": [
        {
          "name": "stdout",
          "output_type": "stream",
          "text": [
            "Cloning into 'detect-and-distort-faces'...\n",
            "remote: Enumerating objects: 22, done.\u001b[K\n",
            "remote: Counting objects: 100% (22/22), done.\u001b[K\n",
            "remote: Compressing objects: 100% (14/14), done.\u001b[K\n",
            "remote: Total 22 (delta 3), reused 21 (delta 2), pack-reused 0\u001b[K\n",
            "Unpacking objects: 100% (22/22), done.\n"
          ]
        }
      ],
      "source": [
        "!git clone https://github.com/shhommychon/detect-and-distort-faces.git\n",
        "\n",
        "import sys\n",
        "sys.path.append(\"detect-and-distort-faces\")"
      ]
    },
    {
      "cell_type": "code",
      "execution_count": 3,
      "metadata": {
        "colab": {
          "base_uri": "https://localhost:8080/"
        },
        "id": "lla4XoDlzydz",
        "outputId": "379e8c0d-385f-426c-8c7d-45d030a0ad8e"
      },
      "outputs": [
        {
          "name": "stdout",
          "output_type": "stream",
          "text": [
            "\u001b[K     |████████████████████████████████| 65 kB 2.2 MB/s \n",
            "\u001b[K     |████████████████████████████████| 32.8 MB 241 kB/s \n",
            "\u001b[K     |████████████████████████████████| 60.5 MB 1.2 MB/s \n",
            "\u001b[K     |████████████████████████████████| 2.3 MB 34.8 MB/s \n",
            "\u001b[K     |████████████████████████████████| 87 kB 6.7 MB/s \n",
            "\u001b[K     |████████████████████████████████| 462 kB 46.9 MB/s \n",
            "\u001b[?25h  Building wheel for fire (setup.py) ... \u001b[?25l\u001b[?25hdone\n",
            "\u001b[31mERROR: pip's dependency resolver does not currently take into account all the packages that are installed. This behaviour is the source of the following dependency conflicts.\n",
            "albumentations 0.1.12 requires imgaug<0.2.7,>=0.2.5, but you have imgaug 0.2.9 which is incompatible.\u001b[0m\n"
          ]
        }
      ],
      "source": [
        "!pip -qq install -r detect-and-distort-faces/requirements.txt\n",
        "\n",
        "import os\n",
        "os.mkdir(\"/root/.deepface\")\n",
        "os.mkdir(\"/root/.deepface/weights\")"
      ]
    },
    {
      "cell_type": "markdown",
      "metadata": {
        "id": "GUC2_mc_0U9n"
      },
      "source": [
        "# 얼굴 탐지"
      ]
    },
    {
      "cell_type": "code",
      "execution_count": 4,
      "metadata": {
        "id": "2F4Q5Z8X-N6j"
      },
      "outputs": [],
      "source": [
        "SCREEN_WIDTH = 640; SCREEN_HEIGHT = 480\n",
        "\n",
        "face_detect = False\n",
        "face_detect_model = \"none\"\n",
        "face_distort_type = \"none\""
      ]
    },
    {
      "cell_type": "code",
      "execution_count": null,
      "metadata": {
        "id": "f9dgMBrm0ah9"
      },
      "outputs": [],
      "source": [
        "from helper import google_colab as colab\n",
        "from helper.function_keys import define_detector, detector, distortor\n",
        "\n",
        "import cv2\n",
        "import numpy as np\n",
        "\n",
        "# start streaming video from webcam\n",
        "colab.video_stream(width=SCREEN_WIDTH, height=SCREEN_HEIGHT)\n",
        "\n",
        "# label for video\n",
        "label_html = \"Capturing...\"\n",
        "\n",
        "# initialze bounding box to empty\n",
        "bbox = ''\n",
        "\n",
        "if face_detect:\n",
        "    # 아래 옵션 중 얼굴 탐지 모델을 선택하세요.\n",
        "    #   \"cv2_haar\":         cv2.CascadeClassifier\n",
        "    #   \"df_cv\":            deepface.detectors.FaceDetector.build_model(\"opencv\")\n",
        "    #   \"df_ssd\":           deepface.detectors.FaceDetector.build_model(\"ssd\")\n",
        "    #   \"df_dlib\":          deepface.detectors.FaceDetector.build_model(\"dlib\")\n",
        "    #   \"df_mc\":            deepface.detectors.FaceDetector.build_model(\"mtcnn\")\n",
        "    #   \"df_ret\":           deepface.detectors.FaceDetector.build_model(\"retinaface\")\n",
        "    #   \"df_mp\":            deepface.detectors.FaceDetector.build_model(\"mediapipe\")\n",
        "    model = define_detector(face_detect_model)\n",
        "\n",
        "while True:\n",
        "    js_reply = colab.video_frame(label_html, bbox)\n",
        "    if not js_reply:\n",
        "        break\n",
        "\n",
        "    # convert JS response to OpenCV Image\n",
        "    img = colab.js_to_image(js_reply[\"img\"])\n",
        "\n",
        "    if face_detect:\n",
        "        faces = detector(model, face_detect_model, img, env=\"colab\")\n",
        "\n",
        "        bbox_array = np.zeros([SCREEN_HEIGHT, SCREEN_WIDTH, 4], dtype=np.uint8)\n",
        "        \n",
        "        for x, y, w, h in faces:\n",
        "            # 아래 옵션 중 얼굴 변형 종류를 선택하세요.\n",
        "            #   \"mosaic\":   모자이크\n",
        "            #   \"avg\":      일반 블러\n",
        "            #   \"gauss\":    가우시안 블러\n",
        "            #   \"med\":      중앙값 블러\n",
        "            #   \"bilat\":    양방향 블러\n",
        "            #   \"wave\":     물결 효과\n",
        "            #   \"convex\":   볼록 렌즈 효과\n",
        "            #   \"concave\":  오목 렌즈 효과\n",
        "            #   \"gray\":     흑백처리\n",
        "            #   \"invert\":   색반전\n",
        "            #   \"sk_w\":     스케치 (흰 바탕)\n",
        "            #   \"sk_m\":     스케치 (원본 색과 합침)\n",
        "            distorted_roi = distortor(face_distort_type, img, x, y, w, h, env=env)\n",
        "\n",
        "            bbox_array = cv2.rectangle(bbox_array, (x,y), (x+w,y+h), (255,0,0), 2) # draw rectangle to main image\n",
        "            bbox_array[:,:,3] = (bbox_array.max(axis=2) > 0).astype(int) * 255\n",
        "            if distorted_roi is not None:\n",
        "                bbox_array[y:y+h, x:x+w] = distorted_roi\n",
        "\n",
        "            bbox_bytes = colab.bbox_to_bytes(bbox_array)\n",
        "            bbox = bbox_bytes\n"
      ]
    }
  ],
  "metadata": {
    "accelerator": "GPU",
    "colab": {
      "collapsed_sections": [],
      "name": "run.ipynb",
      "provenance": []
    },
    "kernelspec": {
      "display_name": "Python 3",
      "name": "python3"
    },
    "language_info": {
      "name": "python"
    }
  },
  "nbformat": 4,
  "nbformat_minor": 0
}
